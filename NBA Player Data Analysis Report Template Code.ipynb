{
 "cells": [
  {
   "cell_type": "markdown",
   "metadata": {},
   "source": [
    "### Prepare Source Dataset"
   ]
  },
  {
   "cell_type": "code",
   "execution_count": 1,
   "metadata": {},
   "outputs": [],
   "source": [
    "nba = read.csv(\"./nbadata.csv\")\n",
    "player_name = \"Jeremy Lin\"\n",
    "player_shot_records = nba[nba$PLAYER_NAME == player_name,]"
   ]
  },
  {
   "cell_type": "markdown",
   "metadata": {},
   "source": [
    "### Prepare Self Define Function Libarary"
   ]
  },
  {
   "cell_type": "markdown",
   "metadata": {},
   "source": [
    "#### General Functions"
   ]
  },
  {
   "cell_type": "code",
   "execution_count": 61,
   "metadata": {},
   "outputs": [],
   "source": [
    "percentage = function(number) {\n",
    "    return(paste(round(number, 3)*100,\"%\"))\n",
    "}\n",
    "show = function(m_matrix, titles, data) {\n",
    "    rows_count = nrow(m_matrix)\n",
    "    cols_count = ncol(m_matrix)\n",
    "    for(i in c(1:rows_count)) {\n",
    "        if(i %% 2 == 1) {\n",
    "            m_matrix[i, ] = titles[(i%/%2*cols_count+1):((i%/%2+1)*cols_count)]\n",
    "        } else {\n",
    "            m_matrix[i, ] = data[(i%/%2*cols_count-cols_count+1):((i%/%2)*cols_count)]\n",
    "        }\n",
    "    }\n",
    "    return(m_matrix)\n",
    "}"
   ]
  },
  {
   "cell_type": "markdown",
   "metadata": {},
   "source": [
    "#### Statistic Related Functions"
   ]
  },
  {
   "cell_type": "code",
   "execution_count": 244,
   "metadata": {},
   "outputs": [],
   "source": [
    "get_player_per_game_statistics = function(player_shot_records, func) {\n",
    "    game_ids = unique(player_shot_records$GAME_ID)\n",
    "    statistics = c()\n",
    "    i = 1\n",
    "    for (game_id in game_ids) {\n",
    "        statistics[i] = func(player_shot_records, game_id)\n",
    "        i = i + 1\n",
    "    }\n",
    "    return(statistics)\n",
    "}\n",
    "\n",
    "get_player_score_per_game = function(player_shot_records, game_id) {\n",
    "    score = sum(player_shot_records[player_shot_records$GAME_ID == game_id, \"PTS\"])\n",
    "    return(score)\n",
    "}\n",
    "\n",
    "get_location_per_game = function(player_shot_records, game_id) {\n",
    "    loc = as.numeric(player_shot_records[player_shot_records$GAME_ID==game_id, \"LOCATION\"][1])\n",
    "    if(loc == 1) {\n",
    "        return(0)\n",
    "    }\n",
    "    else {\n",
    "        return(1)\n",
    "    } \n",
    "}\n",
    "\n",
    "get_final_margin_per_game = function(player_shot_records, game_id) {\n",
    "    return(player_shot_records[player_shot_records$GAME_ID==game_id, \"FINAL_MARGIN\"][1])\n",
    "}\n",
    "\n",
    "get_shot_number_per_game = function(player_shot_records, game_id) {\n",
    "    return(max(player_shot_records[player_shot_records$GAME_ID==game_id, \"SHOT_NUMBER\"]))\n",
    "}\n",
    "\n",
    "get_average_shot_clock_per_game = function(player_shot_records, game_id) {\n",
    "    shot_clock = mean(player_shot_records[player_shot_records$GAME_ID==game_id, \"SHOT_CLOCK\"])\n",
    "    if (is.na(shot_clock)) {\n",
    "        return(mean(player_shot_records[, \"SHOT_CLOCK\"], na.rm=TRUE))\n",
    "    }\n",
    "    else {\n",
    "        return(shot_clock)\n",
    "    }\n",
    "}\n",
    "\n",
    "get_average_dribbles_per_game = function(player_shot_records, game_id) {\n",
    "    return(mean(player_shot_records[player_shot_records$GAME_ID==game_id, \"DRIBBLES\"]))\n",
    "}\n",
    "\n",
    "get_average_touch_time_per_game = function(player_shot_records, game_id) {\n",
    "    return(mean(player_shot_records[player_shot_records$GAME_ID==game_id,\"TOUCH_TIME\"]))\n",
    "}\n",
    "\n",
    "get_average_shot_distance_per_game = function(player_shot_records, game_id) {\n",
    "    return(mean(player_shot_records[player_shot_records$GAME_ID==game_id, \"SHOT_DIST\"]))\n",
    "}"
   ]
  },
  {
   "cell_type": "markdown",
   "metadata": {},
   "source": [
    "#### Statistic Test Related Functions"
   ]
  },
  {
   "cell_type": "code",
   "execution_count": null,
   "metadata": {},
   "outputs": [],
   "source": [
    "get_CI_from_one_sample_bernoulli = function(positive_data, total_data, alpha=0.05) {\n",
    "    positive_count = length(positive_data)\n",
    "    total = length(total_data)\n",
    "    estimated_percentage = positive_count / total\n",
    "    estimated_variance = estimated_percentage * (1 - estimated_percentage)\n",
    "    degree_of_freedom = total - 1\n",
    "    CI = 1 - alpha / 2\n",
    "    t = pt(CI, degree_of_freedom)\n",
    "    lower_CI = estimated_percentage - t*sqrt(estimated_variance/total)\n",
    "    upper_CI = estimated_percentage + t*sqrt(estimated_variance/total)\n",
    "    titles = c(\n",
    "        \"Confidence\", \"Sample Mean\", \"Sample Variance\",\n",
    "        \"Number of Samples\", \"Degree of Freedom\", \"Confidence Interval\"\n",
    "    )\n",
    "    data = c(\n",
    "        percentage(1-alpha), percentage(estimated_percentage), round(estimated_variance, 2),\n",
    "        total, degree_of_freedom, \n",
    "        paste(\"[\", percentage(lower_CI), \",\", percentage(upper_CI), \"]\")\n",
    "    )\n",
    "    return(show(matrix(nrow = 4, ncol = 3), titles, data))\n",
    "}\n",
    "\n",
    "get_test_result_from_two_sample_bernoulli = function(H0, H1,\n",
    "                                                     positive_data1, data1, \n",
    "                                                     positive_data2, data2, \n",
    "                                                     alpha=0.05, alternative=\"two.sided\") {\n",
    "    positive_data1_count = length(positive_data1)\n",
    "    positive_data2_count = length(positive_data2)\n",
    "    data1_count = length(data1)\n",
    "    data2_count = length(data2)\n",
    "    p1_hat = positive_data1_count / data1_count\n",
    "    p2_hat = positive_data2_count / data2_count\n",
    "    p_hat_based_H0 = (positive_data1_count + positive_data2_count) / (data1_count + data2_count)\n",
    "    variance_based_equal_variance = p_hat_based_H0*(1-p_hat_based_H0)/data1_count + p_hat_based_H0*(1-p_hat_based_H0)/data2_count\n",
    "    statistic = (p1_hat - p2_hat) / sqrt(variance_based_equal_variance) \n",
    "    degree_of_freedom = data1_count + data2_count - 2\n",
    "    if(alternative == \"two.sided\") {\n",
    "        p_value = 2 * (1 - pt(abs(statistic), degree_of_freedom))\n",
    "    } else if(alternative == \"greater\") {\n",
    "        p_value = 1 - pt(statistic, degree_of_freedom)\n",
    "    } else if(alternative == \"less\") {\n",
    "        p_value = pt(statistic, degree_of_freedom)\n",
    "    }\n",
    "    estimated_variance = p1_hat*(1-p1_hat)/data1_count + p2_hat*(1-p2_hat)/data2_count\n",
    "    difference_lower_CI = (p1_hat - p2_hat) - qt(0.975, degree_of_freedom) * estimated_variance\n",
    "    difference_higher_CI = (p1_hat - p2_hat) + qt(0.975, degree_of_freedom) * estimated_variance\n",
    "    difference_confidence_interval = paste(\"[\", percentage(difference_lower_CI), \",\", percentage(difference_higher_CI), \"]\")\n",
    "    titles = c(\n",
    "        \"p_hat1\", \"p_hat2\", \"difference confidence interval(95%)\",\n",
    "        \"Number of Samples1\", \"Number of Samples2\", \"Degree of Freedom\",\n",
    "        \"H0\", \"H1\", \"P Value\"\n",
    "    )\n",
    "    data = c(\n",
    "        percentage(p1_hat), percentage(p2_hat), difference_confidence_interval,\n",
    "        data1_count, data2_count, degree_of_freedom,\n",
    "        H0, H1, p_value\n",
    "    )\n",
    "    return(show(matrix(nrow=6, ncol=3), titles, data))\n",
    "}\n",
    "\n",
    "get_test_result_from_one_sample_multinoulli_test = function(data, alpha=0.05) {\n",
    "    total = length(data)\n",
    "    categories = unique(data)\n",
    "    categories_num = length(categories)\n",
    "    categories_count = c()\n",
    "    m = matrix(nrow=2, ncol=categories_num)\n",
    "    for(i in 1:categories_num) {\n",
    "        categories_count[i] = sum(data == categories[i])\n",
    "    }\n",
    "    m[1,] = categories\n",
    "    m[2,] = categories_count\n",
    "    estimated_percentage = 1 / categories_num\n",
    "    degree_of_freedom = categories_num - 1\n",
    "    E = total * estimated_percentage\n",
    "    chisquare_statistic = 0\n",
    "    for(i in 1:categories_num) {\n",
    "        chisquare_statistic = chisquare_statistic + (as.numeric(m[2,i]) - E)^2/E\n",
    "    }\n",
    "    p_value = 1 - pchisq(chisquare_statistic, degree_of_freedom)\n",
    "    titles = c(\"Categories\", \"Number of Each Categories\", \"P-Value\")\n",
    "    data = c(\n",
    "        paste(categories, collapse=\",\"),\n",
    "        paste(categories_count, collapse=\",\"),\n",
    "        p_value\n",
    "    )\n",
    "    return(show(matrix(nrow=2, ncol=3), titles, data))\n",
    "}"
   ]
  },
  {
   "cell_type": "markdown",
   "metadata": {},
   "source": [
    "#### Model Related Functions"
   ]
  },
  {
   "cell_type": "markdown",
   "metadata": {},
   "source": [
    "##### Linear Regression"
   ]
  },
  {
   "cell_type": "code",
   "execution_count": 317,
   "metadata": {},
   "outputs": [],
   "source": [
    "get_parameters_by_least_squares_estimators = function(X, y) {\n",
    "    parameters = pseudoinverse(X) %*% y\n",
    "    return(parameters)\n",
    "}\n",
    "\n",
    "get_sst_sse_ssm_of_linear_models = function(X, y, parameters) {\n",
    "    sst = sum((y - mean(y))^2)\n",
    "    predictions = X %*% parameters\n",
    "    sse = sum((y - predictions)^2)\n",
    "    ssm = sst - sse\n",
    "    return(c(sst, sse, ssm))\n",
    "}\n",
    "\n",
    "get_anova_table_for_linear_relationship_test = function(X, y, parameters) {\n",
    "    number_of_predictors = dim(X)[2] \n",
    "    number_of_rows = nrow(X)\n",
    "    df_model = number_of_predictors - 1\n",
    "    df_res = number_of_rows - number_of_predictors\n",
    "    df_total = number_of_rows - 1\n",
    "    sst_sse_ssm = get_sst_sse_ssm_of_linear_models(X, y, parameters)\n",
    "    sst = sst_sse_ssm[1]\n",
    "    ssr = sst_sse_ssm[2]\n",
    "    ssm = sst_sse_ssm[3]\n",
    "    mean_ssm = ssm / df_model\n",
    "    mean_sse = ssr / df_res\n",
    "    f_statistic = mean_ssm / mean_sse\n",
    "    p_value = 1 - pf(f_statistic, df_model, df_res)\n",
    "    summary_matrix = matrix(nrow=4, ncol=6)\n",
    "    r1 = c(\"Source of Variation\", \"Sum of Squares\", \"Degrees of Freedom\", \"Mean Square\", \"F0\", \"P-Value\")\n",
    "    r2 = c(\"Model\", round(ssm,2), round(df_model,2), round(mean_ssm,2), round(f_statistic,2), p_value)\n",
    "    r3 = c(\"Residual\", round(ssr,2), round(df_res,2), round(mean_sse,2), \"-\", \"-\")\n",
    "    r4 = c(\"Total\", round(sst,2), round(df_total,2), \"-\", \"-\", \"-\")\n",
    "    summary_matrix[1,]=r1\n",
    "    summary_matrix[2,]=r2\n",
    "    summary_matrix[3,]=r3\n",
    "    summary_matrix[4,]=r4\n",
    "    return(summary_matrix)\n",
    "}\n",
    "\n",
    "get_cov_of_betas = function(X) {\n",
    "    cov_of_betas = solve(t(X) %*% X)\n",
    "    return(cov_of_betas)\n",
    "}\n",
    "\n",
    "get_estimated_sigma = function(X, y, parameters) {\n",
    "    sse = get_sst_sse_ssm_of_linear_models(X, y, parameters)[2]\n",
    "    num_preditors = dim(X)[2]\n",
    "    estimated_sigma = sqrt(sse / (dim(X)[1] - num_preditors))\n",
    "    return(estimated_sigma)\n",
    "}\n",
    "\n",
    "get_individual_variable_p_value = function(i, cov_of_betas, estimated_beta, estimated_sigma, degree_of_freedom) {\n",
    "    statistic = estimated_beta / (cov_of_betas[i,i] * estimated_sigma)\n",
    "    p_value = 2 * (1 - pt(abs(statistic), degree_of_freedom))\n",
    "    return(p_value)\n",
    "}\n",
    "\n",
    "get_influential_variables = function(X, y, parameters, predictors, alpha=0.05) {\n",
    "    if (length(parameters) == 0) {\n",
    "        return\n",
    "    }\n",
    "    min_p_value = Inf\n",
    "    min_p_value_index = NA\n",
    "    cov_of_betas = get_cov_of_betas(X)\n",
    "    estimated_sigma = get_estimated_sigma(X, y, parameters)\n",
    "    df = dim(X)[1] - length(predictors)\n",
    "    # 2 because we do not exclude intercept\n",
    "    for(i in 2:length(parameters)) {\n",
    "        p_value = get_individual_variable_p_value(i, cov_of_betas, parameters[i], estimated_sigma, df)\n",
    "        if(p_value < min_p_value) {\n",
    "            min_p_value_index = i\n",
    "            min_p_value = p_value\n",
    "        }\n",
    "    }\n",
    "    if(min_p_value_index==length(predictors)){\n",
    "        updated_predictors = predictors[1:(length(predictors)-1)]\n",
    "    } \n",
    "    else{\n",
    "        updated_predictors = c(predictors[1:(min_p_value_index-1)], predictors[(min_p_value_index+1):length(predictors)])\n",
    "    } \n",
    "    updated_parameters = get_parameters_by_least_squares_estimators(X[, updated_predictors], y) \n",
    "    p_value = get_anova_table_for_linear_relationship_test(\n",
    "        X[, updated_predictors], y, updated_parameters\n",
    "    )[2,6] \n",
    "    cat(\n",
    "        sprintf(\n",
    "            \"The most influential predictor:%s, The p_value:%f\\n\",\n",
    "            predictors[min_p_value_index],\n",
    "            min_p_value\n",
    "        )\n",
    "    )\n",
    "    if(as.numeric(p_value) >= alpha | as.numeric(min_p_value) >= alpha) {\n",
    "        return(\"Done\")\n",
    "    }\n",
    "    get_influential_variables(X[, updated_predictors], y, updated_parameters, updated_predictors)\n",
    "}"
   ]
  },
  {
   "cell_type": "markdown",
   "metadata": {},
   "source": [
    "##### Logistic Regression"
   ]
  },
  {
   "cell_type": "code",
   "execution_count": 191,
   "metadata": {},
   "outputs": [],
   "source": [
    "get_logistic_regression_probability_predictions = function(X, parameters) {\n",
    "    e_part_vector = exp(-(X %*% parameters))\n",
    "    p_vector = 1 / (1+e_part_vector)     \n",
    "    return(p_vector)\n",
    "}\n",
    "\n",
    "get_logistic_regression_cost = function(X, y, probability_predictions) {\n",
    "    m = nrow(X)\n",
    "    true_label_loss = -(t(y)%*%log(probability_predictions))\n",
    "    false_label_loss = -(t((1-y))%*%log(1-probability_predictions))\n",
    "    cost = 1/m * (true_label_loss + false_label_loss)\n",
    "    return(cost)\n",
    "}\n",
    "\n",
    "optimize_logistic_regression_parameters = function(X, y, probability_predictions, \n",
    "                                                   parameters, learning_rate=0.001) {\n",
    "    number_of_features = dim(X)[2]\n",
    "    part1 = t(X)\n",
    "    part2 = probability_predictions - y\n",
    "    gradient = part1 %*% part2\n",
    "    gradient = gradient/(number_of_features)\n",
    "    gradient = gradient * learning_rate\n",
    "    parameters = parameters - gradient\n",
    "    return(parameters)\n",
    "}\n",
    "\n",
    "get_logistic_final_parameters = function(X, y, parameters, \n",
    "                                         learning_rate=0.001, itr_number=12000) {\n",
    "    cost_before = Inf\n",
    "    for(i in 0:itr_number) {\n",
    "        probability_predictions = get_logistic_regression_probability_predictions(X, parameters)\n",
    "        cost = get_logistic_regression_cost(X, y, probability_predictions)\n",
    "        if(i%%1000 == 0) {\n",
    "            cat(sprintf(\"The cost in %f is: %f \\n\", i, cost))\n",
    "        } else if(cost<0.1) {\n",
    "            cat(sprintf(\"(cost<0.1)The cost in %f is: %f \\n\", i, cost))\n",
    "            return(parameters)\n",
    "        } \n",
    "        parameters = optimize_logistic_regression_parameters(X, y, probability_predictions, parameters, learning_rate)\n",
    "        cost_before = cost\n",
    "    }\n",
    "    return(parameters)\n",
    "}\n",
    "\n",
    "get_model_for_predict_fgm = function(train_X, train_y) {\n",
    "    initial_parameters = get_parameters_by_least_squares_estimators(train_X, train_y)\n",
    "    parameters = get_logistic_final_parameters(train_X, train_y, initial_parameters)\n",
    "    return(parameters)\n",
    "}\n",
    "\n",
    "show_logistic_regression_parameters = function(predictors, parameters) {\n",
    "    predictors = c(\"INTERCEPT\", predictors)\n",
    "    return(show(matrix(nrow=4, ncol=5), predictors, round(parameters, 4)))\n",
    "}\n",
    "\n",
    "decision_boundary = function(probability_predictions) {\n",
    "    predictions = probability_predictions > 0.5\n",
    "    return(as.numeric(predictions))\n",
    "}\n",
    "\n",
    "get_log_likelihood = function(X, y, parameters) {\n",
    "    return( \n",
    "        sum(y * (X %*% parameters) - log(1+exp(X %*% parameters)))\n",
    "    )\n",
    "}\n",
    "\n",
    "get_deviance_test_result = function(X, y, full_features_parameters, ordered_abs_parameters) {\n",
    "    log_likelihood = get_log_likelihood(X, y, full_features_parameters)\n",
    "    log_likelihoods = c(log_likelihood)\n",
    "    deviances = c(0)\n",
    "    p_values = c(1)\n",
    "    features = c(\"FULL FEATURES\")\n",
    "    for( i in 1:(length(ordered_abs_parameters[, 1])-1) ) {\n",
    "        reduced_predictors = c(\"intercept\", ordered_abs_parameters[-(1:i), 1])\n",
    "        print(reduced_predictors)\n",
    "        parameters = get_model_for_predict_fgm(X[, reduced_predictors], y)\n",
    "        log_likelihoods[i+1] = get_log_likelihood(X[, reduced_predictors], y, parameters)\n",
    "        deviances[i+1] = round(2*(log_likelihoods[1] - log_likelihoods[i+1]), 5)\n",
    "        p_values[i+1] = round(1 - pchisq(deviances[i+1], i), 5)\n",
    "        features[i+1] = paste(\"then reduce \", ordered_abs_parameters[, 1][i])\n",
    "    }\n",
    "    features[2] = paste(\"reduce \", ordered_abs_parameters[, 1][1])\n",
    "    summary_matrix = cbind(features, log_likelihoods, deviances, p_values)\n",
    "    return(summary_matrix)\n",
    "}\n",
    "\n",
    "get_logistic_regression_accuracy_precision_and_recall = function(X, y, parameters) {\n",
    "    probability_predictions = get_logistic_regression_probability_predictions(X, parameters)\n",
    "    predictions = decision_boundary(probability_predictions)\n",
    "    n = length(predictions)\n",
    "    TP = sum(y==1 & predictions==1)\n",
    "    FP = sum(y==0 & predictions==1)\n",
    "    FN = sum(y==1 & predictions==0)\n",
    "    accuracy = sum(y==predictions)/n\n",
    "    accuracy95_CI = get_CI_from_one_sample_bernoulli(rep(1,accuracy*n), predictions)[4,3]\n",
    "    precision = TP / (TP+FP)\n",
    "    precision95_CI = get_CI_from_one_sample_bernoulli(rep(1,precision*n), predictions)[4,3]\n",
    "    recall = TP / (TP+FN)\n",
    "    recall95_CI = get_CI_from_one_sample_bernoulli(rep(1,recall*n), predictions)[4,3]\n",
    "    titles = c(\n",
    "        \"accuracy\", \"precision\", \"recall\",\n",
    "        \"accuracy 95% CI\", \"precision 95% CI\", \"recall 95% CI\"\n",
    "    )\n",
    "    data = c(\n",
    "        percentage(accuracy), percentage(precision), percentage(recall),\n",
    "        accuracy95_CI, precision95_CI, recall95_CI\n",
    "    )\n",
    "    return(show(matrix(nrow=4, ncol=3), titles, data))\n",
    "}"
   ]
  },
  {
   "cell_type": "markdown",
   "metadata": {},
   "source": [
    "#### Main Functions"
   ]
  },
  {
   "cell_type": "code",
   "execution_count": 212,
   "metadata": {},
   "outputs": [],
   "source": [
    "summary_player = function(player_shot_records) {\n",
    "    games_count = length(unique(player_shot_records$GAME_ID))\n",
    "    shots_count = nrow(player_shot_records)\n",
    "    home_games_count = length(unique(player_shot_records[player_shot_records$LOCATION==\"H\",]$GAME_ID))\n",
    "    away_games_count = games_count - home_games_count\n",
    "    winning_rate = percentage(length(unique(player_shot_records[player_shot_records$W==\"W\",]$GAME_ID)) / games_count)\n",
    "    shooting_percentage = percentage(nrow(player_shot_records[player_shot_records$FGM==1,]) / shots_count)\n",
    "    two_points_shooting_percentage = percentage(\n",
    "        nrow(player_shot_records[player_shot_records$FGM==1 & player_shot_records$PTS_TYPE==2,]) / \n",
    "        nrow(player_shot_records[player_shot_records$PTS_TYPE==2,])\n",
    "    )\n",
    "    three_points_shooting_percentage = percentage(\n",
    "        nrow(player_shot_records[player_shot_records$FGM==1 & player_shot_records$PTS_TYPE==3,]) / \n",
    "        nrow(player_shot_records[player_shot_records$PTS_TYPE==3,])\n",
    "    )\n",
    "    average_game_score = round(mean(get_player_per_game_statistics(player_shot_records, get_player_score_per_game)), 2)\n",
    "    two_points_choices = percentage(nrow(player_shot_records[player_shot_records$PTS_TYPE==2,]) / shots_count)\n",
    "    three_points_choices = percentage(nrow(player_shot_records[player_shot_records$PTS_TYPE==3,]) / shots_count)\n",
    "    touch_time_habit = paste(quantile(player_shot_records$TOUCH_TIME, c(0.60)))\n",
    "    dribble_count_habit = quantile(player_shot_records$DRIBBLES, c(0.60))\n",
    "    average_shot_clock = round(mean(player_shot_records$SHOT_CLOCK, na.rm=TRUE), 2)\n",
    "    shots_count_in_1_period = nrow(player_shot_records[player_shot_records$PERIOD==1,])\n",
    "    shots_count_in_2_period = nrow(player_shot_records[player_shot_records$PERIOD==2,])\n",
    "    shots_count_in_3_period = nrow(player_shot_records[player_shot_records$PERIOD==3,])\n",
    "    shots_count_in_4_period = nrow(player_shot_records[player_shot_records$PERIOD==4,])\n",
    "    titles = c(\n",
    "        \"games_count\", \"shots_count\", \"home_games_count\", \"away_games_count\",\n",
    "        \"winning_rate\", \"shooting_percentage\", \"two_points_shooting_percentage\", \"three_points_shooting_percentage\",\n",
    "        \"average_game_score\", \"two_points_choices\", \"three_points_choices\", \"touch_time_habit(60%)\",\n",
    "        \"dribble_count_habit(60%)\", \"average_shot_clock\", \"shots_count_in_1_2_period\", \"shots_count_in_3_4_period\"\n",
    "    )\n",
    "    data = c(\n",
    "        games_count, shots_count, home_games_count, away_games_count,\n",
    "        winning_rate, shooting_percentage, two_points_shooting_percentage, three_points_shooting_percentage,\n",
    "        average_game_score, two_points_choices, three_points_choices, touch_time_habit,\n",
    "        dribble_count_habit, average_shot_clock, \n",
    "        paste(shots_count_in_1_period, \",\", shots_count_in_2_period), \n",
    "        paste(shots_count_in_3_period, \",\", shots_count_in_4_period)\n",
    "    )\n",
    "    return(show(matrix(nrow = 8, ncol = 4), titles, data))\n",
    "}\n",
    "\n",
    "get_fgm_confidence_interval = function() {\n",
    "    fgm_data = player_shot_records[\"FGM\"]\n",
    "    fgm_total_samples = fgm_data[TRUE,]\n",
    "    fgm_positive_samples = fgm_data[fgm_data==1,]\n",
    "    get_CI_from_one_sample_bernoulli(fgm_positive_samples, fgm_total_samples)\n",
    "}\n",
    "\n",
    "compare_2_and_3_shooting_percentage = function() {\n",
    "    pts_type_data = player_shot_records[c(\"PTS_TYPE\", \"SHOT_RESULT\")]\n",
    "    pts2_samples = pts_type_data[pts_type_data$PTS_TYPE == 2 & !is.na(pts_type_data$SHOT_RESULT), \"SHOT_RESULT\"]\n",
    "    pts3_samples = pts_type_data[pts_type_data$PTS_TYPE == 3 & !is.na(pts_type_data$SHOT_RESULT), \"SHOT_RESULT\"]\n",
    "    pts2_made_samples = pts_type_data[pts_type_data$PTS_TYPE == 2 & pts_type_data$SHOT_RESULT == \"made\", \"SHOT_RESULT\"]\n",
    "    pts3_made_samples = pts_type_data[pts_type_data$PTS_TYPE == 3 & pts_type_data$SHOT_RESULT == \"made\", \"SHOT_RESULT\"]\n",
    "    get_test_result_from_two_sample_bernoulli(\n",
    "        \"POINTS 2 PERCENTAGE = POINTS 3 PERCENTAGE\",\n",
    "        \"POINTS 2 PERCENTAGE != POINTS 3 PERCENTAGE\",\n",
    "        pts2_made_samples, pts2_samples, \n",
    "        pts3_made_samples, pts3_samples\n",
    "    )  \n",
    "}\n",
    "\n",
    "compare_location_shooting_percentage = function() {\n",
    "    location_shot_data = player_shot_records[c(\"LOCATION\", \"FGM\")]\n",
    "    home_shot_samples = location_shot_data[location_shot_data$LOCATION == \"H\", \"FGM\"]\n",
    "    away_shot_samples = location_shot_data[location_shot_data$LOCATION == \"A\", \"FGM\"]\n",
    "    home_shot_made_samples = location_shot_data[location_shot_data$LOCATION == \"H\" & location_shot_data$FGM == 1, \"FGM\"]\n",
    "    away_shot_made_samples = location_shot_data[location_shot_data$LOCATION == \"A\" & location_shot_data$FGM == 1, \"FGM\"]\n",
    "    get_test_result_from_two_sample_bernoulli(\n",
    "        \"HOME SHOTTING PERCENTAGE = AWAY SHOTTING PERCENTAGE\",\n",
    "        \"HOME SHOTTING PERCENTAGE != AWAY SHOTTING PERCENTAGE\",\n",
    "        home_shot_made_samples, home_shot_samples, \n",
    "        away_shot_made_samples, away_shot_samples\n",
    "    ) \n",
    "}\n",
    "\n",
    "compare_win_lose_shooting_percentage = function() {\n",
    "    game_result_shot_data = player_shot_records[c(\"W\", \"FGM\")]\n",
    "    winning_game_shot_samples = game_result_shot_data[game_result_shot_data$W == \"W\", \"FGM\"]\n",
    "    losing_game_shot_samples = game_result_shot_data[game_result_shot_data$W == \"L\", \"FGM\"]\n",
    "    winning_game_shot_made_samples = game_result_shot_data[game_result_shot_data$W == \"W\" & game_result_shot_data$FGM == 1, \"FGM\"]\n",
    "    losing_game_shot_made_samples = game_result_shot_data[game_result_shot_data$W == \"L\" & game_result_shot_data$FGM == 1, \"FGM\"]\n",
    "    get_test_result_from_two_sample_bernoulli(\n",
    "        \"WIN SHOTTING PERCENTAGE = LOSE SHOOTING PERCENTAGE\",\n",
    "        \"WIN SHOTTING PERCENTAGE != LOSE SHOOTING PERCENTAGE\",\n",
    "        winning_game_shot_made_samples, winning_game_shot_samples, \n",
    "        losing_game_shot_made_samples, losing_game_shot_samples\n",
    "    )\n",
    "}\n",
    "\n",
    "compare_different_periods_shooting_number = function() {\n",
    "    number_of_shots_4_periods = player_shot_records[player_shot_records$PERIOD<=4, \"PERIOD\"]\n",
    "    get_test_result_from_one_sample_multinoulli_test(number_of_shots_4_periods)\n",
    "}\n",
    "\n",
    "compare_different_dribbles_number = function() {\n",
    "    P = player_shot_records\n",
    "    dribbles_0_4 = rep(\"0<=d<4\",length(P[P$DRIBBLES>=0 & P$DRIBBLES<4,\"DRIBBLES\"]))\n",
    "    dribbles_4_6 = rep(\"4<=d<6\",length(P[P$DRIBBLES>=4 & P$DRIBBLES<6,\"DRIBBLES\"]))\n",
    "    dribbles_6_12 = rep(\"6<=d<12\",length(P[P$DRIBBLES>=6 & P$DRIBBLES<12,\"DRIBBLES\"]))\n",
    "    dribbles_12_22 = rep(\"12<=d<22\",length(P[P$DRIBBLES>=12 & P$DRIBBLES<22,\"DRIBBLES\"]))\n",
    "    dribbles = c(dribbles_0_4, dribbles_4_6, dribbles_6_12, dribbles_12_22)\n",
    "    get_test_result_from_one_sample_multinoulli_test(dribbles)\n",
    "}\n",
    "\n",
    "compare_different_touch_time = function() {\n",
    "    P = player_shot_records\n",
    "    touch_time_0_5d5 = rep(\"0<=t<5.5\",length(P[P$TOUCH_TIME>=0 & P$TOUCH_TIME<5.5,\"TOUCH_TIME\"]))\n",
    "    touch_time_5d5_11 = rep(\"5.5<=t<11\",length(P[P$TOUCH_TIME>=5.5 & P$TOUCH_TIME<11,\"TOUCH_TIME\"]))\n",
    "    touch_time_11_16d5 = rep(\"11<=t<16.5\",length(P[P$TOUCH_TIME>=11 & P$TOUCH_TIME<16.5,\"TOUCH_TIME\"]))\n",
    "    touch_time_16d5_22 = rep(\"16.5<=t<22\",length(P[P$TOUCH_TIME>=16.5 & P$TOUCH_TIME<22,\"TOUCH_TIME\"]))\n",
    "    touch_time = c(touch_time_0_5d5, touch_time_5d5_11, touch_time_11_16d5, touch_time_16d5_22)\n",
    "    get_test_result_from_one_sample_multinoulli_test(touch_time)\n",
    "}\n"
   ]
  },
  {
   "cell_type": "markdown",
   "metadata": {},
   "source": [
    "#### Result"
   ]
  },
  {
   "cell_type": "markdown",
   "metadata": {},
   "source": [
    "##### Describe Player"
   ]
  },
  {
   "cell_type": "code",
   "execution_count": 63,
   "metadata": {
    "scrolled": true
   },
   "outputs": [
    {
     "data": {
      "text/html": [
       "<table>\n",
       "<tbody>\n",
       "\t<tr><td>games_count                     </td><td>shots_count                     </td><td>home_games_count                </td><td>away_games_count                </td></tr>\n",
       "\t<tr><td>59                              </td><td>515                             </td><td>29                              </td><td>30                              </td></tr>\n",
       "\t<tr><td>winning_rate                    </td><td>shooting_percentage             </td><td>two_points_shooting_percentage  </td><td>three_points_shooting_percentage</td></tr>\n",
       "\t<tr><td>27.1 %                          </td><td>43.9 %                          </td><td>46.7 %                          </td><td>36.7 %                          </td></tr>\n",
       "\t<tr><td>average_game_score              </td><td>two_points_choices              </td><td>three_points_choices            </td><td>touch_time_habit(60%)           </td></tr>\n",
       "\t<tr><td>8.58                            </td><td>71.5 %                          </td><td>28.5 %                          </td><td>4.8                             </td></tr>\n",
       "\t<tr><td>dribble_count_habit(60%)        </td><td>average_shot_clock              </td><td>shots_count_in_1_2_period       </td><td>shots_count_in_3_4_period       </td></tr>\n",
       "\t<tr><td>4                               </td><td>12.34                           </td><td>125 , 124                       </td><td>104 , 154                       </td></tr>\n",
       "</tbody>\n",
       "</table>\n"
      ],
      "text/latex": [
       "\\begin{tabular}{llll}\n",
       "\t games\\_count                        & shots\\_count                        & home\\_games\\_count                 & away\\_games\\_count                \\\\\n",
       "\t 59                               & 515                              & 29                               & 30                              \\\\\n",
       "\t winning\\_rate                         & shooting\\_percentage                  & two\\_points\\_shooting\\_percentage   & three\\_points\\_shooting\\_percentage\\\\\n",
       "\t 27.1 \\%                           & 43.9 \\%                           & 46.7 \\%                           & 36.7 \\%                          \\\\\n",
       "\t average\\_game\\_score                 & two\\_points\\_choices                 & three\\_points\\_choices               & touch\\_time\\_habit(60\\%)           \\\\\n",
       "\t 8.58                             & 71.5 \\%                         & 28.5 \\%                         & 4.8                             \\\\\n",
       "\t dribble\\_count\\_habit(60\\%)             & average\\_shot\\_clock                     & shots\\_count\\_in\\_1\\_2\\_period        & shots\\_count\\_in\\_3\\_4\\_period       \\\\\n",
       "\t 4                                & 12.34                            & 125 , 124                        & 104 , 154                       \\\\\n",
       "\\end{tabular}\n"
      ],
      "text/markdown": [
       "\n",
       "| games_count                      | shots_count                      | home_games_count                 | away_games_count                 |\n",
       "| 59                               | 515                              | 29                               | 30                               |\n",
       "| winning_rate                     | shooting_percentage              | two_points_shooting_percentage   | three_points_shooting_percentage |\n",
       "| 27.1 %                           | 43.9 %                           | 46.7 %                           | 36.7 %                           |\n",
       "| average_game_score               | two_points_choices               | three_points_choices             | touch_time_habit(60%)            |\n",
       "| 8.58                             | 71.5 %                           | 28.5 %                           | 4.8                              |\n",
       "| dribble_count_habit(60%)         | average_shot_clock               | shots_count_in_1_2_period        | shots_count_in_3_4_period        |\n",
       "| 4                                | 12.34                            | 125 , 124                        | 104 , 154                        |\n",
       "\n"
      ],
      "text/plain": [
       "     [,1]                     [,2]               \n",
       "[1,] games_count              shots_count        \n",
       "[2,] 59                       515                \n",
       "[3,] winning_rate             shooting_percentage\n",
       "[4,] 27.1 %                   43.9 %             \n",
       "[5,] average_game_score       two_points_choices \n",
       "[6,] 8.58                     71.5 %             \n",
       "[7,] dribble_count_habit(60%) average_shot_clock \n",
       "[8,] 4                        12.34              \n",
       "     [,3]                           [,4]                            \n",
       "[1,] home_games_count               away_games_count                \n",
       "[2,] 29                             30                              \n",
       "[3,] two_points_shooting_percentage three_points_shooting_percentage\n",
       "[4,] 46.7 %                         36.7 %                          \n",
       "[5,] three_points_choices           touch_time_habit(60%)           \n",
       "[6,] 28.5 %                         4.8                             \n",
       "[7,] shots_count_in_1_2_period      shots_count_in_3_4_period       \n",
       "[8,] 125 , 124                      104 , 154                       "
      ]
     },
     "metadata": {},
     "output_type": "display_data"
    }
   ],
   "source": [
    "summary_player(player_shot_records)"
   ]
  },
  {
   "cell_type": "markdown",
   "metadata": {},
   "source": [
    "##### CI and Test:\n",
    "    - fgm_confidence_interval\n",
    "    - compare_2_and_3_shooting_percentage\n",
    "    - compare_location_shooting_percentage\n",
    "    - compare_win_lose_shooting_percentage"
   ]
  },
  {
   "cell_type": "code",
   "execution_count": 64,
   "metadata": {
    "scrolled": true
   },
   "outputs": [
    {
     "data": {
      "text/html": [
       "<table>\n",
       "<tbody>\n",
       "\t<tr><td>Confidence         </td><td>Sample Mean        </td><td>Sample Variance    </td></tr>\n",
       "\t<tr><td>95 %               </td><td>43.9 %             </td><td>0.25               </td></tr>\n",
       "\t<tr><td>Number of Samples  </td><td>Degree of Freedom  </td><td>Confidence Interval</td></tr>\n",
       "\t<tr><td>515                </td><td>514                </td><td>[ 42.1 % , 45.7 % ]</td></tr>\n",
       "</tbody>\n",
       "</table>\n"
      ],
      "text/latex": [
       "\\begin{tabular}{lll}\n",
       "\t Confidence          & Sample Mean         & Sample Variance    \\\\\n",
       "\t 95 \\%              & 43.9 \\%            & 0.25               \\\\\n",
       "\t Number of Samples   & Degree of Freedom   & Confidence Interval\\\\\n",
       "\t 515                         & 514                         & {[} 42.1 \\% , 45.7 \\% {]}\\\\\n",
       "\\end{tabular}\n"
      ],
      "text/markdown": [
       "\n",
       "| Confidence          | Sample Mean         | Sample Variance     |\n",
       "| 95 %                | 43.9 %              | 0.25                |\n",
       "| Number of Samples   | Degree of Freedom   | Confidence Interval |\n",
       "| 515                 | 514                 | [ 42.1 % , 45.7 % ] |\n",
       "\n"
      ],
      "text/plain": [
       "     [,1]              [,2]              [,3]               \n",
       "[1,] Confidence        Sample Mean       Sample Variance    \n",
       "[2,] 95 %              43.9 %            0.25               \n",
       "[3,] Number of Samples Degree of Freedom Confidence Interval\n",
       "[4,] 515               514               [ 42.1 % , 45.7 % ]"
      ]
     },
     "metadata": {},
     "output_type": "display_data"
    }
   ],
   "source": [
    "get_fgm_confidence_interval()"
   ]
  },
  {
   "cell_type": "code",
   "execution_count": 79,
   "metadata": {},
   "outputs": [
    {
     "data": {
      "text/html": [
       "<table>\n",
       "<tbody>\n",
       "\t<tr><td>p_hat1                                    </td><td>p_hat2                                    </td><td>difference confidence interval(95%)       </td></tr>\n",
       "\t<tr><td>46.7 %                                    </td><td>36.7 %                                    </td><td>[ 9.6 % , 10.4 % ]                        </td></tr>\n",
       "\t<tr><td>Number of Samples1                        </td><td>Number of Samples2                        </td><td>Degree of Freedom                         </td></tr>\n",
       "\t<tr><td>368                                       </td><td>147                                       </td><td>513                                       </td></tr>\n",
       "\t<tr><td>H0                                        </td><td>H1                                        </td><td>P Value                                   </td></tr>\n",
       "\t<tr><td>POINTS 2 PERCENTAGE = POINTS 3 PERCENTAGE </td><td>POINTS 2 PERCENTAGE != POINTS 3 PERCENTAGE</td><td>0.0393094921235244                        </td></tr>\n",
       "</tbody>\n",
       "</table>\n"
      ],
      "text/latex": [
       "\\begin{tabular}{lll}\n",
       "\t p\\_hat1                                     & p\\_hat2                                     & difference confidence interval(95\\%)       \\\\\n",
       "\t 46.7 \\%                                     & 36.7 \\%                                     & {[} 9.6 \\% , 10.4 \\% {]}                  \\\\\n",
       "\t Number of Samples1                         & Number of Samples2                         & Degree of Freedom                         \\\\\n",
       "\t 368                                        & 147                                        & 513                                       \\\\\n",
       "\t H0                                         & H1                                         & P Value                                   \\\\\n",
       "\t POINTS 2 PERCENTAGE = POINTS 3 PERCENTAGE  & POINTS 2 PERCENTAGE != POINTS 3 PERCENTAGE & 0.0393094921235244                        \\\\\n",
       "\\end{tabular}\n"
      ],
      "text/markdown": [
       "\n",
       "| p_hat1                                     | p_hat2                                     | difference confidence interval(95%)        |\n",
       "| 46.7 %                                     | 36.7 %                                     | [ 9.6 % , 10.4 % ]                         |\n",
       "| Number of Samples1                         | Number of Samples2                         | Degree of Freedom                          |\n",
       "| 368                                        | 147                                        | 513                                        |\n",
       "| H0                                         | H1                                         | P Value                                    |\n",
       "| POINTS 2 PERCENTAGE = POINTS 3 PERCENTAGE  | POINTS 2 PERCENTAGE != POINTS 3 PERCENTAGE | 0.0393094921235244                         |\n",
       "\n"
      ],
      "text/plain": [
       "     [,1]                                     \n",
       "[1,] p_hat1                                   \n",
       "[2,] 46.7 %                                   \n",
       "[3,] Number of Samples1                       \n",
       "[4,] 368                                      \n",
       "[5,] H0                                       \n",
       "[6,] POINTS 2 PERCENTAGE = POINTS 3 PERCENTAGE\n",
       "     [,2]                                      \n",
       "[1,] p_hat2                                    \n",
       "[2,] 36.7 %                                    \n",
       "[3,] Number of Samples2                        \n",
       "[4,] 147                                       \n",
       "[5,] H1                                        \n",
       "[6,] POINTS 2 PERCENTAGE != POINTS 3 PERCENTAGE\n",
       "     [,3]                               \n",
       "[1,] difference confidence interval(95%)\n",
       "[2,] [ 9.6 % , 10.4 % ]                 \n",
       "[3,] Degree of Freedom                  \n",
       "[4,] 513                                \n",
       "[5,] P Value                            \n",
       "[6,] 0.0393094921235244                 "
      ]
     },
     "metadata": {},
     "output_type": "display_data"
    }
   ],
   "source": [
    "compare_2_and_3_shooting_percentage()"
   ]
  },
  {
   "cell_type": "code",
   "execution_count": 89,
   "metadata": {},
   "outputs": [
    {
     "data": {
      "text/html": [
       "<table>\n",
       "<tbody>\n",
       "\t<tr><td>p_hat1                                              </td><td>p_hat2                                              </td><td>difference confidence interval(95%)                 </td></tr>\n",
       "\t<tr><td>48.3 %                                              </td><td>39 %                                                </td><td>[ 8.9 % , 9.7 % ]                                   </td></tr>\n",
       "\t<tr><td>Number of Samples1                                  </td><td>Number of Samples2                                  </td><td>Degree of Freedom                                   </td></tr>\n",
       "\t<tr><td>269                                                 </td><td>246                                                 </td><td>513                                                 </td></tr>\n",
       "\t<tr><td>H0                                                  </td><td>H1                                                  </td><td>P Value                                             </td></tr>\n",
       "\t<tr><td>HOME SHOTTING PERCENTAGE = AWAY SHOTTING PERCENTAGE </td><td>HOME SHOTTING PERCENTAGE != AWAY SHOTTING PERCENTAGE</td><td>0.0340654272345415                                  </td></tr>\n",
       "</tbody>\n",
       "</table>\n"
      ],
      "text/latex": [
       "\\begin{tabular}{lll}\n",
       "\t p\\_hat1                                               & p\\_hat2                                               & difference confidence interval(95\\%)                 \\\\\n",
       "\t 48.3 \\%                                               & 39 \\%                                                 & {[} 8.9 \\% , 9.7 \\% {]}                             \\\\\n",
       "\t Number of Samples1                                   & Number of Samples2                                   & Degree of Freedom                                   \\\\\n",
       "\t 269                                                  & 246                                                  & 513                                                 \\\\\n",
       "\t H0                                                   & H1                                                   & P Value                                             \\\\\n",
       "\t HOME SHOTTING PERCENTAGE = AWAY SHOTTING PERCENTAGE  & HOME SHOTTING PERCENTAGE != AWAY SHOTTING PERCENTAGE & 0.0340654272345415                                  \\\\\n",
       "\\end{tabular}\n"
      ],
      "text/markdown": [
       "\n",
       "| p_hat1                                               | p_hat2                                               | difference confidence interval(95%)                  |\n",
       "| 48.3 %                                               | 39 %                                                 | [ 8.9 % , 9.7 % ]                                    |\n",
       "| Number of Samples1                                   | Number of Samples2                                   | Degree of Freedom                                    |\n",
       "| 269                                                  | 246                                                  | 513                                                  |\n",
       "| H0                                                   | H1                                                   | P Value                                              |\n",
       "| HOME SHOTTING PERCENTAGE = AWAY SHOTTING PERCENTAGE  | HOME SHOTTING PERCENTAGE != AWAY SHOTTING PERCENTAGE | 0.0340654272345415                                   |\n",
       "\n"
      ],
      "text/plain": [
       "     [,1]                                               \n",
       "[1,] p_hat1                                             \n",
       "[2,] 48.3 %                                             \n",
       "[3,] Number of Samples1                                 \n",
       "[4,] 269                                                \n",
       "[5,] H0                                                 \n",
       "[6,] HOME SHOTTING PERCENTAGE = AWAY SHOTTING PERCENTAGE\n",
       "     [,2]                                                \n",
       "[1,] p_hat2                                              \n",
       "[2,] 39 %                                                \n",
       "[3,] Number of Samples2                                  \n",
       "[4,] 246                                                 \n",
       "[5,] H1                                                  \n",
       "[6,] HOME SHOTTING PERCENTAGE != AWAY SHOTTING PERCENTAGE\n",
       "     [,3]                               \n",
       "[1,] difference confidence interval(95%)\n",
       "[2,] [ 8.9 % , 9.7 % ]                  \n",
       "[3,] Degree of Freedom                  \n",
       "[4,] 513                                \n",
       "[5,] P Value                            \n",
       "[6,] 0.0340654272345415                 "
      ]
     },
     "metadata": {},
     "output_type": "display_data"
    }
   ],
   "source": [
    "compare_location_shooting_percentage()"
   ]
  },
  {
   "cell_type": "code",
   "execution_count": 94,
   "metadata": {},
   "outputs": [
    {
     "data": {
      "text/html": [
       "<table>\n",
       "<tbody>\n",
       "\t<tr><td>p_hat1                                             </td><td>p_hat2                                             </td><td>difference confidence interval(95%)                </td></tr>\n",
       "\t<tr><td>42.9 %                                             </td><td>44.3 %                                             </td><td>[ -1.9 % , -1 % ]                                  </td></tr>\n",
       "\t<tr><td>Number of Samples1                                 </td><td>Number of Samples2                                 </td><td>Degree of Freedom                                  </td></tr>\n",
       "\t<tr><td>147                                                </td><td>368                                                </td><td>513                                                </td></tr>\n",
       "\t<tr><td>H0                                                 </td><td>H1                                                 </td><td>P Value                                            </td></tr>\n",
       "\t<tr><td>WIN SHOTTING PERCENTAGE = LOSE SHOOTING PERCENTAGE </td><td>WIN SHOTTING PERCENTAGE != LOSE SHOOTING PERCENTAGE</td><td>0.766856631940847                                  </td></tr>\n",
       "</tbody>\n",
       "</table>\n"
      ],
      "text/latex": [
       "\\begin{tabular}{lll}\n",
       "\t p\\_hat1                                              & p\\_hat2                                              & difference confidence interval(95\\%)                \\\\\n",
       "\t 42.9 \\%                                              & 44.3 \\%                                              & {[} -1.9 \\% , -1 \\% {]}                            \\\\\n",
       "\t Number of Samples1                                  & Number of Samples2                                  & Degree of Freedom                                  \\\\\n",
       "\t 147                                                 & 368                                                 & 513                                                \\\\\n",
       "\t H0                                                  & H1                                                  & P Value                                            \\\\\n",
       "\t WIN SHOTTING PERCENTAGE = LOSE SHOOTING PERCENTAGE  & WIN SHOTTING PERCENTAGE != LOSE SHOOTING PERCENTAGE & 0.766856631940847                                  \\\\\n",
       "\\end{tabular}\n"
      ],
      "text/markdown": [
       "\n",
       "| p_hat1                                              | p_hat2                                              | difference confidence interval(95%)                 |\n",
       "| 42.9 %                                              | 44.3 %                                              | [ -1.9 % , -1 % ]                                   |\n",
       "| Number of Samples1                                  | Number of Samples2                                  | Degree of Freedom                                   |\n",
       "| 147                                                 | 368                                                 | 513                                                 |\n",
       "| H0                                                  | H1                                                  | P Value                                             |\n",
       "| WIN SHOTTING PERCENTAGE = LOSE SHOOTING PERCENTAGE  | WIN SHOTTING PERCENTAGE != LOSE SHOOTING PERCENTAGE | 0.766856631940847                                   |\n",
       "\n"
      ],
      "text/plain": [
       "     [,1]                                              \n",
       "[1,] p_hat1                                            \n",
       "[2,] 42.9 %                                            \n",
       "[3,] Number of Samples1                                \n",
       "[4,] 147                                               \n",
       "[5,] H0                                                \n",
       "[6,] WIN SHOTTING PERCENTAGE = LOSE SHOOTING PERCENTAGE\n",
       "     [,2]                                               \n",
       "[1,] p_hat2                                             \n",
       "[2,] 44.3 %                                             \n",
       "[3,] Number of Samples2                                 \n",
       "[4,] 368                                                \n",
       "[5,] H1                                                 \n",
       "[6,] WIN SHOTTING PERCENTAGE != LOSE SHOOTING PERCENTAGE\n",
       "     [,3]                               \n",
       "[1,] difference confidence interval(95%)\n",
       "[2,] [ -1.9 % , -1 % ]                  \n",
       "[3,] Degree of Freedom                  \n",
       "[4,] 513                                \n",
       "[5,] P Value                            \n",
       "[6,] 0.766856631940847                  "
      ]
     },
     "metadata": {},
     "output_type": "display_data"
    }
   ],
   "source": [
    "compare_win_lose_shooting_percentage()"
   ]
  },
  {
   "cell_type": "markdown",
   "metadata": {},
   "source": [
    "##### Logistic Regression Result"
   ]
  },
  {
   "cell_type": "code",
   "execution_count": 153,
   "metadata": {},
   "outputs": [
    {
     "name": "stdout",
     "output_type": "stream",
     "text": [
      "The cost in 0.000000 is: 0.728863 \n",
      "The cost in 1000.000000 is: 0.643542 \n",
      "The cost in 2000.000000 is: 0.643402 \n",
      "The cost in 3000.000000 is: 0.643351 \n",
      "The cost in 4000.000000 is: 0.643332 \n",
      "The cost in 5000.000000 is: 0.643324 \n",
      "The cost in 6000.000000 is: 0.643321 \n",
      "The cost in 7000.000000 is: 0.643320 \n",
      "The cost in 8000.000000 is: 0.643319 \n",
      "The cost in 9000.000000 is: 0.643319 \n",
      "The cost in 10000.000000 is: 0.643319 \n",
      "The cost in 11000.000000 is: 0.643319 \n",
      "The cost in 12000.000000 is: 0.643319 \n"
     ]
    },
    {
     "data": {
      "text/html": [
       "<table>\n",
       "<tbody>\n",
       "\t<tr><td>INTERCEPT     </td><td>LOCATION      </td><td>FINAL_MARGIN  </td><td>SHOT_NUMBER   </td><td>PERIOD        </td></tr>\n",
       "\t<tr><td>-0.2957       </td><td>0.1654        </td><td>0.0712        </td><td>0.2534        </td><td>-0.1673       </td></tr>\n",
       "\t<tr><td>SHOT_CLOCK    </td><td>DRIBBLES      </td><td>TOUCH_TIME    </td><td>SHOT_DIST     </td><td>CLOSE_DEF_DIST</td></tr>\n",
       "\t<tr><td>0.1842        </td><td>-0.2944       </td><td>0.2786        </td><td>-0.5278       </td><td>0.2526        </td></tr>\n",
       "</tbody>\n",
       "</table>\n"
      ],
      "text/latex": [
       "\\begin{tabular}{lllll}\n",
       "\t INTERCEPT      & LOCATION       & FINAL\\_MARGIN & SHOT\\_NUMBER  & PERIOD        \\\\\n",
       "\t -0.2957        & 0.1654         & 0.0712         & 0.2534         & -0.1673       \\\\\n",
       "\t SHOT\\_CLOCK       & DRIBBLES           & TOUCH\\_TIME       & SHOT\\_DIST        & CLOSE\\_DEF\\_DIST\\\\\n",
       "\t 0.1842         & -0.2944        & 0.2786         & -0.5278        & 0.2526        \\\\\n",
       "\\end{tabular}\n"
      ],
      "text/markdown": [
       "\n",
       "| INTERCEPT      | LOCATION       | FINAL_MARGIN   | SHOT_NUMBER    | PERIOD         |\n",
       "| -0.2957        | 0.1654         | 0.0712         | 0.2534         | -0.1673        |\n",
       "| SHOT_CLOCK     | DRIBBLES       | TOUCH_TIME     | SHOT_DIST      | CLOSE_DEF_DIST |\n",
       "| 0.1842         | -0.2944        | 0.2786         | -0.5278        | 0.2526         |\n",
       "\n"
      ],
      "text/plain": [
       "     [,1]       [,2]     [,3]         [,4]        [,5]          \n",
       "[1,] INTERCEPT  LOCATION FINAL_MARGIN SHOT_NUMBER PERIOD        \n",
       "[2,] -0.2957    0.1654   0.0712       0.2534      -0.1673       \n",
       "[3,] SHOT_CLOCK DRIBBLES TOUCH_TIME   SHOT_DIST   CLOSE_DEF_DIST\n",
       "[4,] 0.1842     -0.2944  0.2786       -0.5278     0.2526        "
      ]
     },
     "metadata": {},
     "output_type": "display_data"
    }
   ],
   "source": [
    "predictors = c(\n",
    "        \"LOCATION\", \"FINAL_MARGIN\", \"SHOT_NUMBER\", \n",
    "        \"PERIOD\", \"SHOT_CLOCK\", \"DRIBBLES\", \n",
    "        \"TOUCH_TIME\", \"SHOT_DIST\", \"CLOSE_DEF_DIST\"\n",
    "    )\n",
    "response_variable = \"FGM\"\n",
    "player_shot_records_copy = data.frame(na.omit(player_shot_records))\n",
    "player_shot_records_copy$LOCATION = mapvalues(\n",
    "    player_shot_records_copy$LOCATION, \n",
    "    from=c(\"A\",\"H\"), \n",
    "    to=c(0,1)\n",
    ")\n",
    "train_dataset = data.matrix(\n",
    "    player_shot_records_copy[c(predictors, response_variable)], \n",
    "    rownames.force = NA\n",
    ")\n",
    "train_X = scale(train_dataset[, c(predictors)])\n",
    "intercept = rep(1, nrow(train_X))\n",
    "train_X = cbind(intercept, train_X)\n",
    "train_y = train_dataset[, response_variable]\n",
    "parameters = get_model_for_predict_fgm(train_X, train_y)\n",
    "show_logistic_regression_parameters(predictors, parameters)"
   ]
  },
  {
   "cell_type": "code",
   "execution_count": 192,
   "metadata": {},
   "outputs": [
    {
     "data": {
      "text/html": [
       "<table>\n",
       "<tbody>\n",
       "\t<tr><td>accuracy           </td><td>precision          </td><td>recall             </td></tr>\n",
       "\t<tr><td>63.4 %             </td><td>60.1 %             </td><td>44.8 %             </td></tr>\n",
       "\t<tr><td>accuracy 95% CI    </td><td>precision 95% CI   </td><td>recall 95% CI      </td></tr>\n",
       "\t<tr><td>[ 61.5 % , 65.3 % ]</td><td>[ 58.1 % , 61.9 % ]</td><td>[ 42.8 % , 46.7 % ]</td></tr>\n",
       "</tbody>\n",
       "</table>\n"
      ],
      "text/latex": [
       "\\begin{tabular}{lll}\n",
       "\t accuracy            & precision           & recall             \\\\\n",
       "\t 63.4 \\%              & 60.1 \\%              & 44.8 \\%             \\\\\n",
       "\t accuracy 95\\% CI     & precision 95\\% CI    & recall 95\\% CI      \\\\\n",
       "\t {[} 61.5 \\% , 65.3 \\% {]} & {[} 58.1 \\% , 61.9 \\% {]} & {[} 42.8 \\% , 46.7 \\% {]}\\\\\n",
       "\\end{tabular}\n"
      ],
      "text/markdown": [
       "\n",
       "| accuracy            | precision           | recall              |\n",
       "| 63.4 %              | 60.1 %              | 44.8 %              |\n",
       "| accuracy 95% CI     | precision 95% CI    | recall 95% CI       |\n",
       "| [ 61.5 % , 65.3 % ] | [ 58.1 % , 61.9 % ] | [ 42.8 % , 46.7 % ] |\n",
       "\n"
      ],
      "text/plain": [
       "     [,1]                [,2]                [,3]               \n",
       "[1,] accuracy            precision           recall             \n",
       "[2,] 63.4 %              60.1 %              44.8 %             \n",
       "[3,] accuracy 95% CI     precision 95% CI    recall 95% CI      \n",
       "[4,] [ 61.5 % , 65.3 % ] [ 58.1 % , 61.9 % ] [ 42.8 % , 46.7 % ]"
      ]
     },
     "metadata": {},
     "output_type": "display_data"
    }
   ],
   "source": [
    "get_logistic_regression_accuracy_precision_and_recall(train_X, train_y, parameters)"
   ]
  },
  {
   "cell_type": "code",
   "execution_count": 185,
   "metadata": {},
   "outputs": [
    {
     "name": "stdout",
     "output_type": "stream",
     "text": [
      "[1] \"intercept\"      \"LOCATION\"       \"PERIOD\"         \"SHOT_CLOCK\"    \n",
      "[5] \"CLOSE_DEF_DIST\" \"SHOT_NUMBER\"    \"TOUCH_TIME\"     \"DRIBBLES\"      \n",
      "[9] \"SHOT_DIST\"     \n",
      "The cost in 0.000000 is: 0.729063 \n",
      "The cost in 1000.000000 is: 0.644001 \n",
      "The cost in 2000.000000 is: 0.643869 \n",
      "The cost in 3000.000000 is: 0.643825 \n",
      "The cost in 4000.000000 is: 0.643810 \n",
      "The cost in 5000.000000 is: 0.643804 \n",
      "The cost in 6000.000000 is: 0.643802 \n",
      "The cost in 7000.000000 is: 0.643801 \n",
      "The cost in 8000.000000 is: 0.643801 \n",
      "The cost in 9000.000000 is: 0.643801 \n",
      "The cost in 10000.000000 is: 0.643801 \n",
      "The cost in 11000.000000 is: 0.643801 \n",
      "The cost in 12000.000000 is: 0.643801 \n",
      "[1] \"intercept\"      \"PERIOD\"         \"SHOT_CLOCK\"     \"CLOSE_DEF_DIST\"\n",
      "[5] \"SHOT_NUMBER\"    \"TOUCH_TIME\"     \"DRIBBLES\"       \"SHOT_DIST\"     \n",
      "The cost in 0.000000 is: 0.730650 \n",
      "The cost in 1000.000000 is: 0.647921 \n",
      "The cost in 2000.000000 is: 0.647777 \n",
      "The cost in 3000.000000 is: 0.647734 \n",
      "The cost in 4000.000000 is: 0.647721 \n",
      "The cost in 5000.000000 is: 0.647717 \n",
      "The cost in 6000.000000 is: 0.647715 \n",
      "The cost in 7000.000000 is: 0.647715 \n",
      "The cost in 8000.000000 is: 0.647715 \n",
      "The cost in 9000.000000 is: 0.647715 \n",
      "The cost in 10000.000000 is: 0.647715 \n",
      "The cost in 11000.000000 is: 0.647715 \n",
      "The cost in 12000.000000 is: 0.647715 \n",
      "[1] \"intercept\"      \"SHOT_CLOCK\"     \"CLOSE_DEF_DIST\" \"SHOT_NUMBER\"   \n",
      "[5] \"TOUCH_TIME\"     \"DRIBBLES\"       \"SHOT_DIST\"     \n",
      "The cost in 0.000000 is: 0.731255 \n",
      "The cost in 1000.000000 is: 0.649343 \n",
      "The cost in 2000.000000 is: 0.649203 \n",
      "The cost in 3000.000000 is: 0.649167 \n",
      "The cost in 4000.000000 is: 0.649158 \n",
      "The cost in 5000.000000 is: 0.649155 \n",
      "The cost in 6000.000000 is: 0.649154 \n",
      "The cost in 7000.000000 is: 0.649154 \n",
      "The cost in 8000.000000 is: 0.649154 \n",
      "The cost in 9000.000000 is: 0.649154 \n",
      "The cost in 10000.000000 is: 0.649154 \n",
      "The cost in 11000.000000 is: 0.649154 \n",
      "The cost in 12000.000000 is: 0.649154 \n",
      "[1] \"intercept\"      \"CLOSE_DEF_DIST\" \"SHOT_NUMBER\"    \"TOUCH_TIME\"    \n",
      "[5] \"DRIBBLES\"       \"SHOT_DIST\"     \n",
      "The cost in 0.000000 is: 0.732429 \n",
      "The cost in 1000.000000 is: 0.652153 \n",
      "The cost in 2000.000000 is: 0.652066 \n",
      "The cost in 3000.000000 is: 0.652048 \n",
      "The cost in 4000.000000 is: 0.652044 \n",
      "The cost in 5000.000000 is: 0.652044 \n",
      "The cost in 6000.000000 is: 0.652043 \n",
      "The cost in 7000.000000 is: 0.652043 \n",
      "The cost in 8000.000000 is: 0.652043 \n",
      "The cost in 9000.000000 is: 0.652043 \n",
      "The cost in 10000.000000 is: 0.652043 \n",
      "The cost in 11000.000000 is: 0.652043 \n",
      "The cost in 12000.000000 is: 0.652043 \n",
      "[1] \"intercept\"   \"SHOT_NUMBER\" \"TOUCH_TIME\"  \"DRIBBLES\"    \"SHOT_DIST\"  \n",
      "The cost in 0.000000 is: 0.735324 \n",
      "The cost in 1000.000000 is: 0.659219 \n",
      "The cost in 2000.000000 is: 0.659170 \n",
      "The cost in 3000.000000 is: 0.659163 \n",
      "The cost in 4000.000000 is: 0.659162 \n",
      "The cost in 5000.000000 is: 0.659162 \n",
      "The cost in 6000.000000 is: 0.659162 \n",
      "The cost in 7000.000000 is: 0.659162 \n",
      "The cost in 8000.000000 is: 0.659162 \n",
      "The cost in 9000.000000 is: 0.659162 \n",
      "The cost in 10000.000000 is: 0.659162 \n",
      "The cost in 11000.000000 is: 0.659162 \n",
      "The cost in 12000.000000 is: 0.659162 \n",
      "[1] \"intercept\"  \"TOUCH_TIME\" \"DRIBBLES\"   \"SHOT_DIST\" \n",
      "The cost in 0.000000 is: 0.736643 \n",
      "The cost in 1000.000000 is: 0.662355 \n",
      "The cost in 2000.000000 is: 0.662323 \n",
      "The cost in 3000.000000 is: 0.662320 \n",
      "The cost in 4000.000000 is: 0.662320 \n",
      "The cost in 5000.000000 is: 0.662320 \n",
      "The cost in 6000.000000 is: 0.662320 \n",
      "The cost in 7000.000000 is: 0.662320 \n",
      "The cost in 8000.000000 is: 0.662320 \n",
      "The cost in 9000.000000 is: 0.662320 \n",
      "The cost in 10000.000000 is: 0.662320 \n",
      "The cost in 11000.000000 is: 0.662320 \n",
      "The cost in 12000.000000 is: 0.662320 \n",
      "[1] \"intercept\" \"DRIBBLES\"  \"SHOT_DIST\"\n",
      "The cost in 0.000000 is: 0.736854 \n",
      "The cost in 1000.000000 is: 0.662808 \n",
      "The cost in 2000.000000 is: 0.662808 \n",
      "The cost in 3000.000000 is: 0.662808 \n",
      "The cost in 4000.000000 is: 0.662808 \n",
      "The cost in 5000.000000 is: 0.662808 \n",
      "The cost in 6000.000000 is: 0.662808 \n",
      "The cost in 7000.000000 is: 0.662808 \n",
      "The cost in 8000.000000 is: 0.662808 \n",
      "The cost in 9000.000000 is: 0.662808 \n",
      "The cost in 10000.000000 is: 0.662808 \n",
      "The cost in 11000.000000 is: 0.662808 \n",
      "The cost in 12000.000000 is: 0.662808 \n",
      "             predictors \n",
      "\"intercept\" \"SHOT_DIST\" \n",
      "The cost in 0.000000 is: 0.737121 \n",
      "The cost in 1000.000000 is: 0.663431 \n",
      "The cost in 2000.000000 is: 0.663431 \n",
      "The cost in 3000.000000 is: 0.663431 \n",
      "The cost in 4000.000000 is: 0.663431 \n",
      "The cost in 5000.000000 is: 0.663431 \n",
      "The cost in 6000.000000 is: 0.663431 \n",
      "The cost in 7000.000000 is: 0.663431 \n",
      "The cost in 8000.000000 is: 0.663431 \n",
      "The cost in 9000.000000 is: 0.663431 \n",
      "The cost in 10000.000000 is: 0.663431 \n",
      "The cost in 11000.000000 is: 0.663431 \n",
      "The cost in 12000.000000 is: 0.663431 \n"
     ]
    },
    {
     "data": {
      "text/html": [
       "<table>\n",
       "<thead><tr><th scope=col>features</th><th scope=col>log_likelihoods</th><th scope=col>deviances</th><th scope=col>p_values</th></tr></thead>\n",
       "<tbody>\n",
       "\t<tr><td>FULL FEATURES              </td><td>-286.276954240745          </td><td>0                          </td><td>1                          </td></tr>\n",
       "\t<tr><td>reduce  FINAL_MARGIN       </td><td>-286.491472325562          </td><td>0.42904                    </td><td>0.51246                    </td></tr>\n",
       "\t<tr><td>then reduce  LOCATION      </td><td>-288.233088472336          </td><td>3.91227                    </td><td>0.1414                     </td></tr>\n",
       "\t<tr><td>then reduce  PERIOD        </td><td>-288.873630472663          </td><td>5.19335                    </td><td>0.15817                    </td></tr>\n",
       "\t<tr><td>then reduce  SHOT_CLOCK    </td><td>-290.159283548709          </td><td>7.76466                    </td><td>0.10059                    </td></tr>\n",
       "\t<tr><td>then reduce  CLOSE_DEF_DIST</td><td>-293.327227656209          </td><td>14.10055                   </td><td>0.01498                    </td></tr>\n",
       "\t<tr><td>then reduce  SHOT_NUMBER   </td><td>-294.73236302677           </td><td>16.91082                   </td><td>0.00962                    </td></tr>\n",
       "\t<tr><td>then reduce  TOUCH_TIME    </td><td>-294.949704347852          </td><td>17.3455                    </td><td>0.0153                     </td></tr>\n",
       "\t<tr><td>then reduce  DRIBBLES      </td><td>-295.226633493419          </td><td>17.89936                   </td><td>0.02199                    </td></tr>\n",
       "</tbody>\n",
       "</table>\n"
      ],
      "text/latex": [
       "\\begin{tabular}{llll}\n",
       " features & log\\_likelihoods & deviances & p\\_values\\\\\n",
       "\\hline\n",
       "\t FULL FEATURES               & -286.276954240745           & 0                           & 1                          \\\\\n",
       "\t reduce  FINAL\\_MARGIN        & -286.491472325562             & 0.42904                       & 0.51246                      \\\\\n",
       "\t then reduce  LOCATION       & -288.233088472336           & 3.91227                     & 0.1414                     \\\\\n",
       "\t then reduce  PERIOD         & -288.873630472663           & 5.19335                     & 0.15817                    \\\\\n",
       "\t then reduce  SHOT\\_CLOCK     & -290.159283548709             & 7.76466                       & 0.10059                      \\\\\n",
       "\t then reduce  CLOSE\\_DEF\\_DIST & -293.327227656209               & 14.10055                        & 0.01498                        \\\\\n",
       "\t then reduce  SHOT\\_NUMBER    & -294.73236302677              & 16.91082                      & 0.00962                      \\\\\n",
       "\t then reduce  TOUCH\\_TIME     & -294.949704347852             & 17.3455                       & 0.0153                       \\\\\n",
       "\t then reduce  DRIBBLES       & -295.226633493419           & 17.89936                    & 0.02199                    \\\\\n",
       "\\end{tabular}\n"
      ],
      "text/markdown": [
       "\n",
       "| features | log_likelihoods | deviances | p_values |\n",
       "|---|---|---|---|\n",
       "| FULL FEATURES               | -286.276954240745           | 0                           | 1                           |\n",
       "| reduce  FINAL_MARGIN        | -286.491472325562           | 0.42904                     | 0.51246                     |\n",
       "| then reduce  LOCATION       | -288.233088472336           | 3.91227                     | 0.1414                      |\n",
       "| then reduce  PERIOD         | -288.873630472663           | 5.19335                     | 0.15817                     |\n",
       "| then reduce  SHOT_CLOCK     | -290.159283548709           | 7.76466                     | 0.10059                     |\n",
       "| then reduce  CLOSE_DEF_DIST | -293.327227656209           | 14.10055                    | 0.01498                     |\n",
       "| then reduce  SHOT_NUMBER    | -294.73236302677            | 16.91082                    | 0.00962                     |\n",
       "| then reduce  TOUCH_TIME     | -294.949704347852           | 17.3455                     | 0.0153                      |\n",
       "| then reduce  DRIBBLES       | -295.226633493419           | 17.89936                    | 0.02199                     |\n",
       "\n"
      ],
      "text/plain": [
       "      features                    log_likelihoods   deviances p_values\n",
       " [1,] FULL FEATURES               -286.276954240745 0         1       \n",
       " [2,] reduce  FINAL_MARGIN        -286.491472325562 0.42904   0.51246 \n",
       " [3,] then reduce  LOCATION       -288.233088472336 3.91227   0.1414  \n",
       " [4,] then reduce  PERIOD         -288.873630472663 5.19335   0.15817 \n",
       " [5,] then reduce  SHOT_CLOCK     -290.159283548709 7.76466   0.10059 \n",
       " [6,] then reduce  CLOSE_DEF_DIST -293.327227656209 14.10055  0.01498 \n",
       " [7,] then reduce  SHOT_NUMBER    -294.73236302677  16.91082  0.00962 \n",
       " [8,] then reduce  TOUCH_TIME     -294.949704347852 17.3455   0.0153  \n",
       " [9,] then reduce  DRIBBLES       -295.226633493419 17.89936  0.02199 "
      ]
     },
     "metadata": {},
     "output_type": "display_data"
    }
   ],
   "source": [
    "ordered_abs_parameters = cbind(predictors, abs(parameters[2:10]))\n",
    "ordered_abs_parameters = ordered_parameters[order(ordered_parameters[, 2]), ]\n",
    "get_deviance_test_result(train_X, train_y, parameters, ordered_abs_parameters)\n",
    "# We might can delete final_margin, location, period, shot_clock"
   ]
  },
  {
   "cell_type": "markdown",
   "metadata": {},
   "source": [
    "##### Test:\n",
    "    - compare_different_periods_shooting_number\n",
    "    - compare_different_dribbles_number\n",
    "    - compare_different_touch_time"
   ]
  },
  {
   "cell_type": "code",
   "execution_count": 209,
   "metadata": {},
   "outputs": [
    {
     "data": {
      "text/html": [
       "<table>\n",
       "<tbody>\n",
       "\t<tr><td>Categories               </td><td>Number of Each Categories</td><td>P-Value                  </td></tr>\n",
       "\t<tr><td>1,3,2,4                  </td><td>125,104,124,154          </td><td>0.0183494300915167       </td></tr>\n",
       "</tbody>\n",
       "</table>\n"
      ],
      "text/latex": [
       "\\begin{tabular}{lll}\n",
       "\t Categories                & Number of Each Categories & P-Value                  \\\\\n",
       "\t 1,3,2,4                   & 125,104,124,154           & 0.0183494300915167       \\\\\n",
       "\\end{tabular}\n"
      ],
      "text/markdown": [
       "\n",
       "| Categories                | Number of Each Categories | P-Value                   |\n",
       "| 1,3,2,4                   | 125,104,124,154           | 0.0183494300915167        |\n",
       "\n"
      ],
      "text/plain": [
       "     [,1]       [,2]                      [,3]              \n",
       "[1,] Categories Number of Each Categories P-Value           \n",
       "[2,] 1,3,2,4    125,104,124,154           0.0183494300915167"
      ]
     },
     "metadata": {},
     "output_type": "display_data"
    }
   ],
   "source": [
    "compare_different_periods_shooting_number()"
   ]
  },
  {
   "cell_type": "code",
   "execution_count": 211,
   "metadata": {},
   "outputs": [
    {
     "data": {
      "text/html": [
       "<table>\n",
       "<tbody>\n",
       "\t<tr><td>Categories                    </td><td>Number of Each Categories     </td><td>P-Value                       </td></tr>\n",
       "\t<tr><td>0&lt;=d&lt;4,4&lt;=d&lt;6,6&lt;=d&lt;12,12&lt;=d&lt;22           </td><td><span style=white-space:pre-wrap>272,74,114,50            </span></td><td><span style=white-space:pre-wrap>0      </span>                  </td></tr>\n",
       "</tbody>\n",
       "</table>\n"
      ],
      "text/latex": [
       "\\begin{tabular}{lll}\n",
       "\t Categories                     & Number of Each Categories      & P-Value                       \\\\\n",
       "\t 0<=d<4,4<=d<6,6<=d<12,12<=d<22 & 272,74,114,50                  & 0                             \\\\\n",
       "\\end{tabular}\n"
      ],
      "text/markdown": [
       "\n",
       "| Categories                     | Number of Each Categories      | P-Value                        |\n",
       "| 0<=d<4,4<=d<6,6<=d<12,12<=d<22 | 272,74,114,50                  | 0                              |\n",
       "\n"
      ],
      "text/plain": [
       "     [,1]                           [,2]                      [,3]   \n",
       "[1,] Categories                     Number of Each Categories P-Value\n",
       "[2,] 0<=d<4,4<=d<6,6<=d<12,12<=d<22 272,74,114,50             0      "
      ]
     },
     "metadata": {},
     "output_type": "display_data"
    }
   ],
   "source": [
    "compare_different_dribbles_number()"
   ]
  },
  {
   "cell_type": "code",
   "execution_count": 213,
   "metadata": {
    "scrolled": true
   },
   "outputs": [
    {
     "data": {
      "text/html": [
       "<table>\n",
       "<tbody>\n",
       "\t<tr><td>Categories                              </td><td>Number of Each Categories               </td><td>P-Value                                 </td></tr>\n",
       "\t<tr><td>0&lt;=t&lt;5.5,5.5&lt;=t&lt;11,11&lt;=t&lt;16.5,16.5&lt;=t&lt;22 </td><td><span style=white-space:pre-wrap>341,122,37,13            </span></td><td><span style=white-space:pre-wrap>0      </span>                  </td></tr>\n",
       "</tbody>\n",
       "</table>\n"
      ],
      "text/latex": [
       "\\begin{tabular}{lll}\n",
       "\t Categories                               & Number of Each Categories                & P-Value                                 \\\\\n",
       "\t 0<=t<5.5,5.5<=t<11,11<=t<16.5,16.5<=t<22 & 341,122,37,13                            & 0                                       \\\\\n",
       "\\end{tabular}\n"
      ],
      "text/markdown": [
       "\n",
       "| Categories                               | Number of Each Categories                | P-Value                                  |\n",
       "| 0<=t<5.5,5.5<=t<11,11<=t<16.5,16.5<=t<22 | 341,122,37,13                            | 0                                        |\n",
       "\n"
      ],
      "text/plain": [
       "     [,1]                                     [,2]                      [,3]   \n",
       "[1,] Categories                               Number of Each Categories P-Value\n",
       "[2,] 0<=t<5.5,5.5<=t<11,11<=t<16.5,16.5<=t<22 341,122,37,13             0      "
      ]
     },
     "metadata": {},
     "output_type": "display_data"
    }
   ],
   "source": [
    "compare_different_touch_time()"
   ]
  },
  {
   "cell_type": "markdown",
   "metadata": {},
   "source": [
    "##### Linear Regression Result"
   ]
  },
  {
   "cell_type": "code",
   "execution_count": 314,
   "metadata": {},
   "outputs": [
    {
     "data": {
      "text/html": [
       "<table>\n",
       "<tbody>\n",
       "\t<tr><td>intercept     </td><td>loc           </td><td>final_margin  </td><td>shot_number   </td><td>avg_shot_clock</td><td>avg_dribble   </td><td>avg_touch_t   </td><td>avg_shot_dist </td></tr>\n",
       "\t<tr><td>-0.10717      </td><td>0.21803       </td><td>0.03795       </td><td>0.76898       </td><td>0.06154       </td><td>0.1945        </td><td>-0.2186       </td><td>-0.04716      </td></tr>\n",
       "</tbody>\n",
       "</table>\n"
      ],
      "text/latex": [
       "\\begin{tabular}{llllllll}\n",
       "\t intercept          & loc                & final\\_margin     & shot\\_number      & avg\\_shot\\_clock & avg\\_dribble      & avg\\_touch\\_t    & avg\\_shot\\_dist \\\\\n",
       "\t -0.10717       & 0.21803        & 0.03795        & 0.76898        & 0.06154        & 0.1945         & -0.2186        & -0.04716      \\\\\n",
       "\\end{tabular}\n"
      ],
      "text/markdown": [
       "\n",
       "| intercept      | loc            | final_margin   | shot_number    | avg_shot_clock | avg_dribble    | avg_touch_t    | avg_shot_dist  |\n",
       "| -0.10717       | 0.21803        | 0.03795        | 0.76898        | 0.06154        | 0.1945         | -0.2186        | -0.04716       |\n",
       "\n"
      ],
      "text/plain": [
       "     [,1]      [,2]    [,3]         [,4]        [,5]           [,6]       \n",
       "[1,] intercept loc     final_margin shot_number avg_shot_clock avg_dribble\n",
       "[2,] -0.10717  0.21803 0.03795      0.76898     0.06154        0.1945     \n",
       "     [,7]        [,8]         \n",
       "[1,] avg_touch_t avg_shot_dist\n",
       "[2,] -0.2186     -0.04716     "
      ]
     },
     "metadata": {},
     "output_type": "display_data"
    }
   ],
   "source": [
    "locs = get_player_per_game_statistics(player_shot_records, get_location_per_game) \n",
    "final_margins = c(scale(get_player_per_game_statistics(player_shot_records, get_final_margin_per_game)))\n",
    "shot_numbers = c(scale(get_player_per_game_statistics(player_shot_records, get_shot_number_per_game)))\n",
    "avg_shot_clocks = c(scale(get_player_per_game_statistics(player_shot_records, get_average_shot_clock_per_game)))\n",
    "avg_dribbles = c(scale(get_player_per_game_statistics(player_shot_records, get_average_dribbles_per_game)))\n",
    "avg_touch_ts = c(scale(get_player_per_game_statistics(player_shot_records, get_average_touch_time_per_game)))\n",
    "avg_shot_dists = c(scale(get_player_per_game_statistics(player_shot_records, get_average_shot_distance_per_game)))\n",
    "scores = c(scale(get_player_per_game_statistics(player_shot_records, get_player_score_per_game)))\n",
    "intercept = rep(1, length(scores))\n",
    "train_X = cbind(\n",
    "    intercept=intercept, loc=locs, final_margin=final_margins, \n",
    "    shot_number=shot_numbers, avg_shot_clock=avg_shot_clocks,\n",
    "    avg_dribble=avg_dribbles, avg_touch_t=avg_touch_ts, \n",
    "    avg_shot_dist=avg_shot_dists\n",
    ")\n",
    "train_y = scores\n",
    "parameters = round(get_parameters_by_least_squares_estimators(train_X, train_y),5)\n",
    "predictors = c(\n",
    "    \"intercept\",\"loc\",\"final_margin\",\"shot_number\",\n",
    "    \"avg_shot_clock\",\"avg_dribble\",\"avg_touch_t\",\"avg_shot_dist\"\n",
    ")\n",
    "show(matrix(nrow=2, ncol=8), predictors, parameters)"
   ]
  },
  {
   "cell_type": "code",
   "execution_count": 315,
   "metadata": {},
   "outputs": [
    {
     "data": {
      "text/html": [
       "<table>\n",
       "<tbody>\n",
       "\t<tr><td>Source of Variation </td><td>Sum of Squares      </td><td>Degrees of Freedom  </td><td>Mean Square         </td><td>F0                  </td><td>P-Value             </td></tr>\n",
       "\t<tr><td>Model               </td><td>37.06               </td><td>7                   </td><td>5.29                </td><td>12.9                </td><td>2.08950035052169e-09</td></tr>\n",
       "\t<tr><td>Residual            </td><td>20.94               </td><td>51                  </td><td>0.41                </td><td>-                   </td><td>-                   </td></tr>\n",
       "\t<tr><td>Total               </td><td>58                  </td><td>58                  </td><td>-                   </td><td>-                   </td><td>-                   </td></tr>\n",
       "</tbody>\n",
       "</table>\n"
      ],
      "text/latex": [
       "\\begin{tabular}{llllll}\n",
       "\t Source of Variation  & Sum of Squares       & Degrees of Freedom   & Mean Square          & F0                   & P-Value             \\\\\n",
       "\t Model                & 37.06                & 7                    & 5.29                 & 12.9                 & 2.08950035052169e-09\\\\\n",
       "\t Residual             & 20.94                & 51                   & 0.41                 & -                    & -                   \\\\\n",
       "\t Total                & 58                   & 58                   & -                    & -                    & -                   \\\\\n",
       "\\end{tabular}\n"
      ],
      "text/markdown": [
       "\n",
       "| Source of Variation  | Sum of Squares       | Degrees of Freedom   | Mean Square          | F0                   | P-Value              |\n",
       "| Model                | 37.06                | 7                    | 5.29                 | 12.9                 | 2.08950035052169e-09 |\n",
       "| Residual             | 20.94                | 51                   | 0.41                 | -                    | -                    |\n",
       "| Total                | 58                   | 58                   | -                    | -                    | -                    |\n",
       "\n"
      ],
      "text/plain": [
       "     [,1]                [,2]           [,3]               [,4]        [,5]\n",
       "[1,] Source of Variation Sum of Squares Degrees of Freedom Mean Square F0  \n",
       "[2,] Model               37.06          7                  5.29        12.9\n",
       "[3,] Residual            20.94          51                 0.41        -   \n",
       "[4,] Total               58             58                 -           -   \n",
       "     [,6]                \n",
       "[1,] P-Value             \n",
       "[2,] 2.08950035052169e-09\n",
       "[3,] -                   \n",
       "[4,] -                   "
      ]
     },
     "metadata": {},
     "output_type": "display_data"
    }
   ],
   "source": [
    "get_anova_table_for_linear_relationship_test(train_X, train_y, parameters)"
   ]
  },
  {
   "cell_type": "code",
   "execution_count": 318,
   "metadata": {},
   "outputs": [
    {
     "name": "stdout",
     "output_type": "stream",
     "text": [
      "The most influential predictor:shot_number, The p_value:0.000000\n"
     ]
    },
    {
     "data": {
      "text/html": [
       "'Done'"
      ],
      "text/latex": [
       "'Done'"
      ],
      "text/markdown": [
       "'Done'"
      ],
      "text/plain": [
       "[1] \"Done\""
      ]
     },
     "metadata": {},
     "output_type": "display_data"
    }
   ],
   "source": [
    "get_influential_variables(train_X, train_y, parameters, predictors)"
   ]
  },
  {
   "cell_type": "code",
   "execution_count": 322,
   "metadata": {},
   "outputs": [
    {
     "data": {
      "image/png": "[encoded data removed]",
      "text/plain": [
       "Plot with title \"Residules QQ-plots\""
      ]
     },
     "metadata": {},
     "output_type": "display_data"
    }
   ],
   "source": [
    "residules = train_y - train_X %*% parameters\n",
    "\n",
    "options(repr.plot.width=5, repr.plot.height=5)\n",
    "qqnorm(residules, ylab=\"Residuals\", main=\"Residules QQ-plots\")"
   ]
  }
 ],
 "metadata": {
  "kernelspec": {
   "display_name": "R",
   "language": "R",
   "name": "ir"
  },
  "language_info": {
   "codemirror_mode": "r",
   "file_extension": ".r",
   "mimetype": "text/x-r-source",
   "name": "R",
   "pygments_lexer": "r",
   "version": "3.6.1"
  }
 },
 "nbformat": 4,
 "nbformat_minor": 4
}
